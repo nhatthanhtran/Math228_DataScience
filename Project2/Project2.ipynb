{
 "cells": [
  {
   "cell_type": "code",
   "execution_count": 21,
   "metadata": {},
   "outputs": [
    {
     "name": "stdout",
     "output_type": "stream",
     "text": [
      "WARNING:tensorflow:Tensor._shape is private, use Tensor.shape instead. Tensor._shape will eventually be removed.\n",
      "Epoch 1, Loss: 0.24928970634937286, Accuracy: 44.0\n",
      "Epoch 2, Loss: 0.24926160275936127, Accuracy: 39.849998474121094\n",
      "Epoch 3, Loss: 0.2492845058441162, Accuracy: 36.29999923706055\n",
      "Epoch 4, Loss: 0.24919022619724274, Accuracy: 42.849998474121094\n",
      "Epoch 5, Loss: 0.24922607839107513, Accuracy: 44.35000228881836\n",
      "Epoch 6, Loss: 0.24912385642528534, Accuracy: 47.29999923706055\n",
      "Epoch 7, Loss: 0.24914665520191193, Accuracy: 40.349998474121094\n",
      "Epoch 8, Loss: 0.2491132915019989, Accuracy: 45.400001525878906\n",
      "Epoch 9, Loss: 0.2490779310464859, Accuracy: 49.599998474121094\n",
      "Epoch 10, Loss: 0.2490391582250595, Accuracy: 44.0\n"
     ]
    }
   ],
   "source": [
    "import tensorflow as tf\n",
    "import numpy as np\n",
    "from tensorflow import keras\n",
    "from tensorflow.keras.layers import Dense, Flatten, Conv2D\n",
    "from tensorflow.keras import Model\n",
    "\n",
    "from sklearn.model_selection import train_test_split\n",
    "\n",
    "\n",
    "\n",
    "\n",
    "class FullyConnectedNet(Model):\n",
    "    def __init__(self, hidden_dim, output_dim, activation='relu'):\n",
    "        super(FullyConnectedNet, self).__init__()\n",
    "        self.dense1 = Dense(hidden_dim, activation=activation)\n",
    "        self.out = Dense(output_dim, activation='sigmoid')\n",
    "    def call(self,x):\n",
    "        x = self.dense1(x)\n",
    "        x = self.out(x)\n",
    "        return x\n",
    "\n",
    "\n",
    "def train(model, dataset, loss_obj, num_epochs, optimizer, train_loss, train_accuracy):\n",
    "\n",
    "\n",
    "    for epoch in range(num_epochs):\n",
    "        train_loss.reset_states()\n",
    "        train_accuracy.reset_states()\n",
    "        for X_data, labels in dataset:\n",
    "            with tf.GradientTape() as tape:\n",
    "                pred = model(X_data)\n",
    "                loss = loss_obj(labels, pred)\n",
    "            \n",
    "            grad = tape.gradient(loss, model.trainable_variables)\n",
    "            optimizer.apply_gradients(zip(grad, model.trainable_variables))\n",
    "\n",
    "            train_loss(loss)\n",
    "            pred = pred > 0.5\n",
    "            train_accuracy(labels, tf.transpose(pred))\n",
    "        \n",
    "        if epoch%50 == 0:\n",
    "            print(\n",
    "                f'Epoch {epoch + 1}, '\n",
    "                f'Loss: {train_loss.result()}, '\n",
    "                f'Accuracy: {train_accuracy.result() * 100}'\n",
    "            )\n",
    "\n",
    "\n",
    "lr = 0.01\n",
    "num_epochs = 500\n",
    "dtype = tf.float64\n",
    "model = FullyConnectedNet(2,1,'sigmoid')\n",
    "\n",
    "loss_object = tf.keras.losses.MeanSquaredError()\n",
    "optimizer = tf.keras.optimizers.SGD(learning_rate=lr)\n",
    "train_loss = tf.keras.metrics.Mean(name='train_loss')\n",
    "train_accuracy = tf.keras.metrics.SparseCategoricalAccuracy(name='train_accuracy')\n",
    "\n",
    "training_data = np.loadtxt(\"training_data.txt\")\n",
    "test_data = np.loadtxt(\"test_data.txt\")\n",
    "training_data = tf.convert_to_tensor(training_data, dtype=dtype)\n",
    "test_data = tf.convert_to_tensor(test_data, dtype=dtype)\n",
    "X_train, y_train = training_data[:,1:], training_data[:,0]\n",
    "X_test, y_test = training_data[:,1:], training_data[:,0]\n",
    "\n",
    "train_ds = tf.data.Dataset.from_tensor_slices(\n",
    "    (X_train, y_train)\n",
    ").shuffle(1000).batch(32)\n",
    "\n",
    "\n",
    "train(model, train_ds, loss_object, num_epochs, optimizer, train_loss, train_accuracy)\n",
    "\n",
    "\n",
    "\n",
    "\n",
    "\n"
   ]
  }
 ],
 "metadata": {
  "kernelspec": {
   "display_name": "Python 3",
   "language": "python",
   "name": "python3"
  },
  "language_info": {
   "codemirror_mode": {
    "name": "ipython",
    "version": 3
   },
   "file_extension": ".py",
   "mimetype": "text/x-python",
   "name": "python",
   "nbconvert_exporter": "python",
   "pygments_lexer": "ipython3",
   "version": "3.10.9"
  },
  "orig_nbformat": 4,
  "vscode": {
   "interpreter": {
    "hash": "4b5fae13954b58ad2b0758fb569f7d61b735a4f7f3651c577d5f941435d6aa82"
   }
  }
 },
 "nbformat": 4,
 "nbformat_minor": 2
}
